{
 "cells": [
  {
   "cell_type": "code",
   "execution_count": 1,
   "metadata": {},
   "outputs": [],
   "source": [
    "import torch\n",
    "from models import TrajectoryGenerator, TrajectoryDiscriminator\n",
    "from train import init_weights, get_dtypes"
   ]
  },
  {
   "cell_type": "code",
   "execution_count": 2,
   "metadata": {},
   "outputs": [],
   "source": [
    "long_dtype, float_dtype = get_dtypes()"
   ]
  },
  {
   "cell_type": "code",
   "execution_count": 3,
   "metadata": {},
   "outputs": [
    {
     "name": "stdout",
     "output_type": "stream",
     "text": [
      "Here is the generator:\n",
      "TrajectoryGenerator(\n",
      "  (encoder): Encoder(\n",
      "    (encoder): LSTM(16, 64)\n",
      "    (spatial_embedding): Linear(in_features=2, out_features=16, bias=True)\n",
      "  )\n",
      "  (sattn): SocialAttention(\n",
      "    (spatial_embedding): Linear(in_features=2, out_features=16, bias=True)\n",
      "    (mlp_pre_attn): Sequential(\n",
      "      (0): Linear(in_features=80, out_features=512, bias=True)\n",
      "      (1): ReLU()\n",
      "      (2): Linear(in_features=512, out_features=32, bias=True)\n",
      "      (3): ReLU()\n",
      "    )\n",
      "    (attn): Linear(in_features=2048, out_features=64, bias=True)\n",
      "  )\n",
      "  (pattn): PhysicalAttention(\n",
      "    (spatial_embedding): Linear(in_features=2, out_features=16, bias=True)\n",
      "    (pre_att_proj): Linear(in_features=512, out_features=16, bias=True)\n",
      "    (mlp_pre_attn): Sequential(\n",
      "      (0): Linear(in_features=32, out_features=512, bias=True)\n",
      "      (1): ReLU()\n",
      "      (2): Linear(in_features=512, out_features=32, bias=True)\n",
      "      (3): ReLU()\n",
      "    )\n",
      "    (attn): Linear(in_features=28800, out_features=900, bias=True)\n",
      "  )\n",
      "  (decoder): Decoder(\n",
      "    (decoder): LSTM(16, 64)\n",
      "    (spatial_embedding): Linear(in_features=2, out_features=16, bias=True)\n",
      "    (hidden2pos): Linear(in_features=64, out_features=2, bias=True)\n",
      "  )\n",
      "  (mlp_decoder_context): Sequential(\n",
      "    (0): Linear(in_features=128, out_features=64, bias=True)\n",
      "    (1): ReLU()\n",
      "    (2): Linear(in_features=64, out_features=56, bias=True)\n",
      "    (3): ReLU()\n",
      "  )\n",
      ")\n"
     ]
    }
   ],
   "source": [
    "generator = TrajectoryGenerator()\n",
    "generator.apply(init_weights)\n",
    "generator.type(float_dtype).train()\n",
    "print('Here is the generator:')\n",
    "print(generator)"
   ]
  },
  {
   "cell_type": "code",
   "execution_count": 4,
   "metadata": {},
   "outputs": [
    {
     "name": "stdout",
     "output_type": "stream",
     "text": [
      "Here is the discriminator:\n",
      "TrajectoryDiscriminator(\n",
      "  (encoder): Encoder(\n",
      "    (encoder): LSTM(16, 64)\n",
      "    (spatial_embedding): Linear(in_features=2, out_features=16, bias=True)\n",
      "  )\n",
      "  (real_classifier): Sequential(\n",
      "    (0): Linear(in_features=64, out_features=64, bias=True)\n",
      "    (1): ReLU()\n",
      "    (2): Linear(in_features=64, out_features=1, bias=True)\n",
      "    (3): ReLU()\n",
      "  )\n",
      ")\n"
     ]
    }
   ],
   "source": [
    "discriminator = TrajectoryDiscriminator()\n",
    "discriminator.apply(init_weights)\n",
    "discriminator.type(float_dtype).train()\n",
    "print('Here is the discriminator:')\n",
    "print(discriminator)"
   ]
  },
  {
   "cell_type": "code",
   "execution_count": 6,
   "metadata": {},
   "outputs": [
    {
     "name": "stdout",
     "output_type": "stream",
     "text": [
      ">>  torch.Size([12, 7, 2])\n"
     ]
    }
   ],
   "source": [
    "vgg = torch.randn((1,512,84,75)).to(\"cuda\")\n",
    "# seqlen - numpeds - maxpeds - points\n",
    "x = torch.randn((8,7,64,2)).to(\"cuda\")\n",
    "x_rel = torch.randn((8,7,64,2)).to(\"cuda\")\n",
    "# numpeds - x - y\n",
    "output = generator(x,x_rel,vgg)\n",
    "print(\">> \", output.shape)"
   ]
  },
  {
   "cell_type": "code",
   "execution_count": 10,
   "metadata": {},
   "outputs": [
    {
     "name": "stdout",
     "output_type": "stream",
     "text": [
      "tensor([[-0.2598, -0.1227],\n",
      "        [-0.2844, -0.0958],\n",
      "        [-0.2840, -0.0213],\n",
      "        [-0.2723,  0.0331],\n",
      "        [-0.2599,  0.0699],\n",
      "        [-0.2505,  0.0940],\n",
      "        [-0.2441,  0.1096],\n",
      "        [-0.2402,  0.1198],\n",
      "        [-0.2379,  0.1265],\n",
      "        [-0.2366,  0.1309],\n",
      "        [-0.2358,  0.1339],\n",
      "        [-0.2353,  0.1359]], device='cuda:0', grad_fn=<SliceBackward0>)\n"
     ]
    }
   ],
   "source": [
    "print(output[:,2,:])"
   ]
  },
  {
   "cell_type": "code",
   "execution_count": 13,
   "metadata": {},
   "outputs": [
    {
     "name": "stdout",
     "output_type": "stream",
     "text": [
      "torch.Size([7, 1])\n",
      "tensor([[0.],\n",
      "        [0.],\n",
      "        [0.],\n",
      "        [0.],\n",
      "        [0.],\n",
      "        [0.],\n",
      "        [0.]], device='cuda:0', grad_fn=<ReluBackward0>)\n"
     ]
    }
   ],
   "source": [
    "output_dis = discriminator(1,output)\n",
    "print(output_dis.shape)\n",
    "print(output_dis)"
   ]
  }
 ],
 "metadata": {
  "interpreter": {
   "hash": "31f2aee4e71d21fbe5cf8b01ff0e069b9275f58929596ceb00d14d90e3e16cd6"
  },
  "kernelspec": {
   "display_name": "Python 3.6.9 64-bit",
   "language": "python",
   "name": "python3"
  },
  "language_info": {
   "codemirror_mode": {
    "name": "ipython",
    "version": 3
   },
   "file_extension": ".py",
   "mimetype": "text/x-python",
   "name": "python",
   "nbconvert_exporter": "python",
   "pygments_lexer": "ipython3",
   "version": "3.6.9"
  },
  "orig_nbformat": 4
 },
 "nbformat": 4,
 "nbformat_minor": 2
}
